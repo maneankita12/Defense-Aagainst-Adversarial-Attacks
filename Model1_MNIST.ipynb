{
  "nbformat": 4,
  "nbformat_minor": 0,
  "metadata": {
    "colab": {
      "name": "Model1_MNIST.ipynb",
      "provenance": [],
      "collapsed_sections": []
    },
    "kernelspec": {
      "display_name": "Python 3",
      "name": "python3"
    },
    "language_info": {
      "name": "python"
    }
  },
  "cells": [
    {
      "cell_type": "code",
      "metadata": {
        "id": "5m7vfVQXHdua"
      },
      "source": [
        "\n",
        "import tensorflow as tf\n",
        "\n",
        "from tensorflow.keras.datasets import mnist, cifar10, cifar100\n",
        "\n",
        "from tensorflow.keras import Sequential\n",
        "from tensorflow.keras.callbacks import LambdaCallback\n",
        "from tensorflow.keras.layers import Conv2D, MaxPooling2D, Dropout, Dense, Flatten, Activation\n",
        "\n",
        "import numpy as np\n",
        "import random\n",
        "\n",
        "import matplotlib.pyplot as plt"
      ],
      "execution_count": null,
      "outputs": []
    },
    {
      "cell_type": "code",
      "metadata": {
        "colab": {
          "base_uri": "https://localhost:8080/"
        },
        "id": "2GT8oOP9Hoco",
        "outputId": "9f470562-f0e1-4745-a6b1-2af228a94e09"
      },
      "source": [
        "(x_train, y_train), (x_test, y_test) = mnist.load_data()"
      ],
      "execution_count": null,
      "outputs": [
        {
          "output_type": "stream",
          "name": "stdout",
          "text": [
            "Downloading data from https://storage.googleapis.com/tensorflow/tf-keras-datasets/mnist.npz\n",
            "11493376/11490434 [==============================] - 0s 0us/step\n",
            "11501568/11490434 [==============================] - 0s 0us/step\n"
          ]
        }
      ]
    },
    {
      "cell_type": "code",
      "metadata": {
        "id": "5TUZIWpeHuwv"
      },
      "source": [
        "# Cifar10\n",
        "# labels = ['airplane', 'automobile', 'bird', 'cat', 'deer', 'dog', 'frog', 'horse', 'ship', 'truck']\n",
        "\n",
        "# MNIST\n",
        "labels = ['zero', 'one', 'two', 'three', 'four', 'five', 'six', 'seven', 'eight', 'nine']"
      ],
      "execution_count": null,
      "outputs": []
    },
    {
      "cell_type": "code",
      "metadata": {
        "colab": {
          "base_uri": "https://localhost:8080/"
        },
        "id": "W_P9T2upHzTC",
        "outputId": "ef2b8b02-58c0-4445-bfd8-1ad06405a219"
      },
      "source": [
        "# Pre-process data\n",
        "img_rows, img_cols, channels = 28, 28, 1 # 32, 32, 3\n",
        "num_classes = 10\n",
        "\n",
        "x_train = x_train / 255\n",
        "x_test = x_test / 255\n",
        "\n",
        "x_train = x_train.reshape((-1, img_rows, img_cols, channels))\n",
        "x_test = x_test.reshape((-1, img_rows, img_cols, channels))\n",
        "\n",
        "y_train = tf.keras.utils.to_categorical(y_train, num_classes)\n",
        "y_test = tf.keras.utils.to_categorical(y_test, num_classes)\n",
        "\n",
        "print(\"Data shapes\", x_test.shape, y_test.shape, x_train.shape, y_train.shape)"
      ],
      "execution_count": null,
      "outputs": [
        {
          "output_type": "stream",
          "name": "stdout",
          "text": [
            "Data shapes (10000, 28, 28, 1) (10000, 10) (60000, 28, 28, 1) (60000, 10)\n"
          ]
        }
      ]
    },
    {
      "cell_type": "code",
      "metadata": {
        "id": "Mp2Jy8YxH31v"
      },
      "source": [
        "# Create model\n",
        "def create_model():\n",
        "    model = Sequential()\n",
        "    model.add(Conv2D(32, kernel_size=(3, 3), strides=(3, 3), padding='same', activation='relu', input_shape=(img_rows, img_cols, channels)))\n",
        "    model.add(Conv2D(64, kernel_size=(3, 3), strides=(3, 3), padding='same', activation='relu'))\n",
        "    model.add(Conv2D(64, kernel_size=(3, 3), strides=(3, 3), padding='same', activation='relu'))\n",
        "    model.add(MaxPooling2D(pool_size=(2, 2)))\n",
        "    model.add(Dropout(0.2))\n",
        "    model.add(Flatten())\n",
        "    model.add(Dense(32))\n",
        "    model.add(Dropout(0.2))\n",
        "    model.add(Dense(32))\n",
        "    model.add(Dropout(0.2))\n",
        "    model.add(Dense(num_classes, activation='softmax'))\n",
        "\n",
        "    model.compile(optimizer='adam', loss='mse', metrics=['accuracy'])\n",
        "    \n",
        "    return model"
      ],
      "execution_count": null,
      "outputs": []
    },
    {
      "cell_type": "code",
      "metadata": {
        "colab": {
          "base_uri": "https://localhost:8080/"
        },
        "id": "Vsbm0z2MH8jD",
        "outputId": "569933d3-6407-42de-95d1-01d44a4bab4e"
      },
      "source": [
        "# Create and fit model\n",
        "model = create_model()\n",
        "model.summary()"
      ],
      "execution_count": null,
      "outputs": [
        {
          "output_type": "stream",
          "name": "stdout",
          "text": [
            "Model: \"sequential\"\n",
            "_________________________________________________________________\n",
            " Layer (type)                Output Shape              Param #   \n",
            "=================================================================\n",
            " conv2d (Conv2D)             (None, 10, 10, 32)        320       \n",
            "                                                                 \n",
            " conv2d_1 (Conv2D)           (None, 4, 4, 64)          18496     \n",
            "                                                                 \n",
            " conv2d_2 (Conv2D)           (None, 2, 2, 64)          36928     \n",
            "                                                                 \n",
            " max_pooling2d (MaxPooling2D  (None, 1, 1, 64)         0         \n",
            " )                                                               \n",
            "                                                                 \n",
            " dropout (Dropout)           (None, 1, 1, 64)          0         \n",
            "                                                                 \n",
            " flatten (Flatten)           (None, 64)                0         \n",
            "                                                                 \n",
            " dense (Dense)               (None, 32)                2080      \n",
            "                                                                 \n",
            " dropout_1 (Dropout)         (None, 32)                0         \n",
            "                                                                 \n",
            " dense_1 (Dense)             (None, 32)                1056      \n",
            "                                                                 \n",
            " dropout_2 (Dropout)         (None, 32)                0         \n",
            "                                                                 \n",
            " dense_2 (Dense)             (None, 10)                330       \n",
            "                                                                 \n",
            "=================================================================\n",
            "Total params: 59,210\n",
            "Trainable params: 59,210\n",
            "Non-trainable params: 0\n",
            "_________________________________________________________________\n"
          ]
        }
      ]
    },
    {
      "cell_type": "code",
      "metadata": {
        "colab": {
          "base_uri": "https://localhost:8080/"
        },
        "id": "fGuz8fPlH_aZ",
        "outputId": "3bb18956-3b45-4b51-d3d1-405e3ec30db4"
      },
      "source": [
        "model.fit(x_train, y_train,\n",
        "          batch_size=32,\n",
        "          epochs=20,\n",
        "          validation_data=(x_test, y_test))"
      ],
      "execution_count": null,
      "outputs": [
        {
          "output_type": "stream",
          "name": "stdout",
          "text": [
            "Epoch 1/20\n",
            "1875/1875 [==============================] - 17s 9ms/step - loss: 0.0200 - accuracy: 0.8616 - val_loss: 0.0071 - val_accuracy: 0.9533\n",
            "Epoch 2/20\n",
            "1875/1875 [==============================] - 16s 8ms/step - loss: 0.0092 - accuracy: 0.9403 - val_loss: 0.0050 - val_accuracy: 0.9687\n",
            "Epoch 3/20\n",
            "1875/1875 [==============================] - 16s 8ms/step - loss: 0.0075 - accuracy: 0.9514 - val_loss: 0.0045 - val_accuracy: 0.9708\n",
            "Epoch 4/20\n",
            "1875/1875 [==============================] - 15s 8ms/step - loss: 0.0064 - accuracy: 0.9593 - val_loss: 0.0044 - val_accuracy: 0.9712\n",
            "Epoch 5/20\n",
            "1875/1875 [==============================] - 16s 8ms/step - loss: 0.0059 - accuracy: 0.9623 - val_loss: 0.0038 - val_accuracy: 0.9760\n",
            "Epoch 6/20\n",
            "1875/1875 [==============================] - 15s 8ms/step - loss: 0.0054 - accuracy: 0.9654 - val_loss: 0.0034 - val_accuracy: 0.9776\n",
            "Epoch 7/20\n",
            "1875/1875 [==============================] - 15s 8ms/step - loss: 0.0050 - accuracy: 0.9685 - val_loss: 0.0035 - val_accuracy: 0.9781\n",
            "Epoch 8/20\n",
            "1875/1875 [==============================] - 15s 8ms/step - loss: 0.0047 - accuracy: 0.9701 - val_loss: 0.0036 - val_accuracy: 0.9780\n",
            "Epoch 9/20\n",
            "1875/1875 [==============================] - 16s 8ms/step - loss: 0.0044 - accuracy: 0.9712 - val_loss: 0.0034 - val_accuracy: 0.9787\n",
            "Epoch 10/20\n",
            "1875/1875 [==============================] - 15s 8ms/step - loss: 0.0042 - accuracy: 0.9736 - val_loss: 0.0031 - val_accuracy: 0.9802\n",
            "Epoch 11/20\n",
            "1875/1875 [==============================] - 15s 8ms/step - loss: 0.0040 - accuracy: 0.9744 - val_loss: 0.0031 - val_accuracy: 0.9798\n",
            "Epoch 12/20\n",
            "1875/1875 [==============================] - 15s 8ms/step - loss: 0.0039 - accuracy: 0.9753 - val_loss: 0.0033 - val_accuracy: 0.9796\n",
            "Epoch 13/20\n",
            "1875/1875 [==============================] - 15s 8ms/step - loss: 0.0038 - accuracy: 0.9762 - val_loss: 0.0029 - val_accuracy: 0.9813\n",
            "Epoch 14/20\n",
            "1875/1875 [==============================] - 16s 8ms/step - loss: 0.0036 - accuracy: 0.9773 - val_loss: 0.0029 - val_accuracy: 0.9822\n",
            "Epoch 15/20\n",
            "1875/1875 [==============================] - 16s 8ms/step - loss: 0.0034 - accuracy: 0.9783 - val_loss: 0.0035 - val_accuracy: 0.9784\n",
            "Epoch 16/20\n",
            "1875/1875 [==============================] - 15s 8ms/step - loss: 0.0034 - accuracy: 0.9792 - val_loss: 0.0033 - val_accuracy: 0.9797\n",
            "Epoch 17/20\n",
            "1875/1875 [==============================] - 15s 8ms/step - loss: 0.0034 - accuracy: 0.9791 - val_loss: 0.0030 - val_accuracy: 0.9807\n",
            "Epoch 18/20\n",
            "1875/1875 [==============================] - 15s 8ms/step - loss: 0.0033 - accuracy: 0.9790 - val_loss: 0.0030 - val_accuracy: 0.9812\n",
            "Epoch 19/20\n",
            "1875/1875 [==============================] - 15s 8ms/step - loss: 0.0031 - accuracy: 0.9810 - val_loss: 0.0033 - val_accuracy: 0.9799\n",
            "Epoch 20/20\n",
            "1875/1875 [==============================] - 15s 8ms/step - loss: 0.0031 - accuracy: 0.9808 - val_loss: 0.0031 - val_accuracy: 0.9811\n"
          ]
        },
        {
          "output_type": "execute_result",
          "data": {
            "text/plain": [
              "<keras.callbacks.History at 0x7f6e02f6c890>"
            ]
          },
          "metadata": {},
          "execution_count": 7
        }
      ]
    },
    {
      "cell_type": "code",
      "metadata": {
        "colab": {
          "base_uri": "https://localhost:8080/"
        },
        "id": "PZyR0ocaIDyG",
        "outputId": "c0aab0e3-a51b-46e5-930b-cc6a2c9bd882"
      },
      "source": [
        "# Assess base model accuracy on regular images\n",
        "print(\"Base accuracy on regular images:\", model.evaluate(x=x_test, y=y_test, verbose=0))"
      ],
      "execution_count": null,
      "outputs": [
        {
          "output_type": "stream",
          "name": "stdout",
          "text": [
            "Base accuracy on regular images: [0.0030909040942788124, 0.9811000227928162]\n"
          ]
        }
      ]
    },
    {
      "cell_type": "markdown",
      "metadata": {
        "id": "zJOM7bC5g6cw"
      },
      "source": [
        "# **ATTACK**"
      ]
    },
    {
      "cell_type": "code",
      "metadata": {
        "id": "gpX7_xelIIN7"
      },
      "source": [
        "# Function to create adversarial pattern\n",
        "def adversarial_pattern(image, label):\n",
        "    image = tf.cast(image, tf.float32)\n",
        "    \n",
        "    with tf.GradientTape() as tape:\n",
        "        tape.watch(image)\n",
        "        prediction = model(image)\n",
        "        loss = tf.keras.losses.MSE(label, prediction)\n",
        "    \n",
        "    gradient = tape.gradient(loss, image)\n",
        "    \n",
        "    signed_grad = tf.sign(gradient)\n",
        "    \n",
        "    return signed_grad"
      ],
      "execution_count": null,
      "outputs": []
    },
    {
      "cell_type": "code",
      "metadata": {
        "colab": {
          "base_uri": "https://localhost:8080/"
        },
        "id": "0NcwlOMDIMwm",
        "outputId": "922f0ea9-cb45-4047-edd9-0d05c9d8e366"
      },
      "source": [
        "# Create a signle adversarial example\n",
        "image = x_train[0]\n",
        "image_label = y_train[0]\n",
        "perturbations = adversarial_pattern(image.reshape((1, img_rows, img_cols, channels)), image_label).numpy()\n",
        "adversarial = image + perturbations * 0.1\n",
        "\n",
        "print(labels[model.predict(image.reshape((1, img_rows, img_cols, channels))).argmax()])\n",
        "print(labels[model.predict(adversarial).argmax()])\n",
        "\n",
        "if channels == 1:\n",
        "    plt.imshow(adversarial.reshape((img_rows, img_cols)))\n",
        "else:\n",
        "    plt.imshow(adversarial.reshape((img_rows, img_cols, channels)))\n",
        "plt.show()"
      ],
      "execution_count": null,
      "outputs": [
        {
          "output_type": "stream",
          "name": "stdout",
          "text": [
            "five\n",
            "three\n"
          ]
        },
        {
          "output_type": "display_data",
          "data": {
            "image/png": "[encoded data removed]",
            "text/plain": [
              "<Figure size 432x288 with 1 Axes>"
            ]
          },
          "metadata": {
            "needs_background": "light"
          }
        }
      ]
    },
    {
      "cell_type": "markdown",
      "source": [
        "DEFENSE"
      ],
      "metadata": {
        "id": "YsP7JuO5uvfy"
      }
    },
    {
      "cell_type": "code",
      "metadata": {
        "id": "EdR7M-X2IRh_"
      },
      "source": [
        "# Adversarial data generator\n",
        "def generate_adversarials(batch_size):\n",
        "    while True:\n",
        "        x = []\n",
        "        y = []\n",
        "        for batch in range(batch_size):\n",
        "            N = random.randint(0, 100)\n",
        "\n",
        "            label = y_train[N]\n",
        "            image = x_train[N]\n",
        "            \n",
        "            perturbations = adversarial_pattern(image.reshape((1, img_rows, img_cols, channels)), label).numpy()\n",
        "            \n",
        "            \n",
        "            epsilon = 0.1\n",
        "            adversarial = image + perturbations * epsilon\n",
        "            \n",
        "            x.append(adversarial)\n",
        "            y.append(y_train[N])\n",
        "        \n",
        "        \n",
        "        x = np.asarray(x).reshape((batch_size, img_rows, img_cols, channels))\n",
        "        y = np.asarray(y)\n",
        "        \n",
        "        yield x, y"
      ],
      "execution_count": null,
      "outputs": []
    },
    {
      "cell_type": "code",
      "metadata": {
        "colab": {
          "base_uri": "https://localhost:8080/",
          "height": 1000
        },
        "id": "XSc7WfwIIVrk",
        "outputId": "8dfba2a2-13b4-45f9-f4bb-7869f785d983"
      },
      "source": [
        "# Generate and visualize 12 adversarial images\n",
        "adversarials, correct_labels = next(generate_adversarials(12))\n",
        "for adversarial, correct_label in zip(adversarials, correct_labels):\n",
        "    print('Prediction:', labels[model.predict(adversarial.reshape((1, img_rows, img_cols, channels))).argmax()], 'Truth:', labels[correct_label.argmax()])\n",
        "    if channels == 1:\n",
        "        plt.imshow(adversarial.reshape(img_rows, img_cols))\n",
        "    else:\n",
        "        plt.imshow(adversarial)\n",
        "\n",
        "\n",
        "\n",
        "\n",
        "\n",
        "\n",
        "        \n",
        "    plt.show()"
      ],
      "execution_count": null,
      "outputs": [
        {
          "output_type": "stream",
          "name": "stdout",
          "text": [
            "Prediction: nine Truth: four\n"
          ]
        },
        {
          "output_type": "display_data",
          "data": {
            "image/png": "[encoded data removed]",
            "text/plain": [
              "<Figure size 432x288 with 1 Axes>"
            ]
          },
          "metadata": {
            "needs_background": "light"
          }
        },
        {
          "output_type": "stream",
          "name": "stdout",
          "text": [
            "Prediction: five Truth: five\n"
          ]
        },
        {
          "output_type": "display_data",
          "data": {
            "image/png": "[encoded data removed]",
            "text/plain": [
              "<Figure size 432x288 with 1 Axes>"
            ]
          },
          "metadata": {
            "needs_background": "light"
          }
        },
        {
          "output_type": "stream",
          "name": "stdout",
          "text": [
            "Prediction: eight Truth: eight\n"
          ]
        },
        {
          "output_type": "display_data",
          "data": {
            "image/png": "[encoded data removed]",
            "text/plain": [
              "<Figure size 432x288 with 1 Axes>"
            ]
          },
          "metadata": {
            "needs_background": "light"
          }
        },
        {
          "output_type": "stream",
          "name": "stdout",
          "text": [
            "Prediction: six Truth: six\n"
          ]
        },
        {
          "output_type": "display_data",
          "data": {
            "image/png": "[encoded data removed]",
            "text/plain": [
              "<Figure size 432x288 with 1 Axes>"
            ]
          },
          "metadata": {
            "needs_background": "light"
          }
        },
        {
          "output_type": "stream",
          "name": "stdout",
          "text": [
            "Prediction: three Truth: seven\n"
          ]
        },
        {
          "output_type": "display_data",
          "data": {
            "image/png": "[encoded data removed]",
            "text/plain": [
              "<Figure size 432x288 with 1 Axes>"
            ]
          },
          "metadata": {
            "needs_background": "light"
          }
        },
        {
          "output_type": "stream",
          "name": "stdout",
          "text": [
            "Prediction: five Truth: four\n"
          ]
        },
        {
          "output_type": "display_data",
          "data": {
            "image/png": "[encoded data removed]",
            "text/plain": [
              "<Figure size 432x288 with 1 Axes>"
            ]
          },
          "metadata": {
            "needs_background": "light"
          }
        },
        {
          "output_type": "stream",
          "name": "stdout",
          "text": [
            "Prediction: six Truth: six\n"
          ]
        },
        {
          "output_type": "display_data",
          "data": {
            "image/png": "[encoded data removed]",
            "text/plain": [
              "<Figure size 432x288 with 1 Axes>"
            ]
          },
          "metadata": {
            "needs_background": "light"
          }
        },
        {
          "output_type": "stream",
          "name": "stdout",
          "text": [
            "Prediction: five Truth: five\n"
          ]
        },
        {
          "output_type": "display_data",
          "data": {
            "image/png": "[encoded data removed]",
            "text/plain": [
              "<Figure size 432x288 with 1 Axes>"
            ]
          },
          "metadata": {
            "needs_background": "light"
          }
        },
        {
          "output_type": "stream",
          "name": "stdout",
          "text": [
            "Prediction: seven Truth: nine\n"
          ]
        },
        {
          "output_type": "display_data",
          "data": {
            "image/png": "[encoded data removed]",
            "text/plain": [
              "<Figure size 432x288 with 1 Axes>"
            ]
          },
          "metadata": {
            "needs_background": "light"
          }
        },
        {
          "output_type": "stream",
          "name": "stdout",
          "text": [
            "Prediction: five Truth: six\n"
          ]
        },
        {
          "output_type": "display_data",
          "data": {
            "image/png": "[encoded data removed]",
            "text/plain": [
              "<Figure size 432x288 with 1 Axes>"
            ]
          },
          "metadata": {
            "needs_background": "light"
          }
        },
        {
          "output_type": "stream",
          "name": "stdout",
          "text": [
            "Prediction: three Truth: three\n"
          ]
        },
        {
          "output_type": "display_data",
          "data": {
            "image/png": "[encoded data removed]",
            "text/plain": [
              "<Figure size 432x288 with 1 Axes>"
            ]
          },
          "metadata": {
            "needs_background": "light"
          }
        },
        {
          "output_type": "stream",
          "name": "stdout",
          "text": [
            "Prediction: nine Truth: nine\n"
          ]
        },
        {
          "output_type": "display_data",
          "data": {
            "image/png": "[encoded data removed]",
            "text/plain": [
              "<Figure size 432x288 with 1 Axes>"
            ]
          },
          "metadata": {
            "needs_background": "light"
          }
        }
      ]
    },
    {
      "cell_type": "code",
      "metadata": {
        "id": "a_aJ7vpyIZUS"
      },
      "source": [
        "# Generate adversarial data\n",
        "# x_adversarial, y_adversarial = np.load(\"x_adv_10k.npy\"), np.load(\"y_adv_10k.npy\")\n",
        "x_adversarial_train, y_adversarial_train = next(generate_adversarials(5))\n",
        "x_adversarial_test, y_adversarial_test = next(generate_adversarials(5))"
      ],
      "execution_count": null,
      "outputs": []
    },
    {
      "cell_type": "code",
      "metadata": {
        "colab": {
          "base_uri": "https://localhost:8080/"
        },
        "id": "i1AjZIPRIq0K",
        "outputId": "5bee9bd3-f817-4e16-b7d8-453aa589e18e"
      },
      "source": [
        "# Assess base model on adversarial data\n",
        "print(\"Base accuracy on adversarial images:\", model.evaluate(x=x_adversarial_test, y=y_adversarial_test, verbose=0))"
      ],
      "execution_count": null,
      "outputs": [
        {
          "output_type": "stream",
          "name": "stdout",
          "text": [
            "Base accuracy on adversarial images: [0.0855957642197609, 0.6000000238418579]\n"
          ]
        }
      ]
    },
    {
      "cell_type": "markdown",
      "metadata": {
        "id": "lpbHSDDdwnn4"
      },
      "source": [
        "# **DEFENSE**"
      ]
    },
    {
      "cell_type": "code",
      "metadata": {
        "colab": {
          "base_uri": "https://localhost:8080/"
        },
        "id": "dbAajq_oIuY_",
        "outputId": "9ca81b35-5c8a-4806-8315-a26b6c67dcd9"
      },
      "source": [
        "# Learn from adversarial data\n",
        "model.fit(x_adversarial_train, y_adversarial_train,\n",
        "          batch_size=32,\n",
        "          epochs=10,\n",
        "          validation_data=(x_test, y_test))"
      ],
      "execution_count": null,
      "outputs": [
        {
          "output_type": "stream",
          "name": "stdout",
          "text": [
            "Epoch 1/10\n",
            "1/1 [==============================] - 1s 1s/step - loss: 0.0936 - accuracy: 0.4000 - val_loss: 0.0031 - val_accuracy: 0.9813\n",
            "Epoch 2/10\n",
            "1/1 [==============================] - 1s 801ms/step - loss: 0.0775 - accuracy: 0.6000 - val_loss: 0.0031 - val_accuracy: 0.9813\n",
            "Epoch 3/10\n",
            "1/1 [==============================] - 1s 820ms/step - loss: 0.0802 - accuracy: 0.6000 - val_loss: 0.0031 - val_accuracy: 0.9813\n",
            "Epoch 4/10\n",
            "1/1 [==============================] - 1s 1s/step - loss: 0.0747 - accuracy: 0.6000 - val_loss: 0.0030 - val_accuracy: 0.9817\n",
            "Epoch 5/10\n",
            "1/1 [==============================] - 1s 1s/step - loss: 0.0807 - accuracy: 0.6000 - val_loss: 0.0030 - val_accuracy: 0.9814\n",
            "Epoch 6/10\n",
            "1/1 [==============================] - 1s 801ms/step - loss: 0.0798 - accuracy: 0.6000 - val_loss: 0.0030 - val_accuracy: 0.9814\n",
            "Epoch 7/10\n",
            "1/1 [==============================] - 1s 1s/step - loss: 0.0794 - accuracy: 0.6000 - val_loss: 0.0030 - val_accuracy: 0.9813\n",
            "Epoch 8/10\n",
            "1/1 [==============================] - 1s 1s/step - loss: 0.0786 - accuracy: 0.6000 - val_loss: 0.0030 - val_accuracy: 0.9813\n",
            "Epoch 9/10\n",
            "1/1 [==============================] - 1s 1s/step - loss: 0.0785 - accuracy: 0.6000 - val_loss: 0.0030 - val_accuracy: 0.9811\n",
            "Epoch 10/10\n",
            "1/1 [==============================] - 1s 813ms/step - loss: 0.0891 - accuracy: 0.4000 - val_loss: 0.0030 - val_accuracy: 0.9812\n"
          ]
        },
        {
          "output_type": "execute_result",
          "data": {
            "text/plain": [
              "<keras.callbacks.History at 0x7f6dff4fa310>"
            ]
          },
          "metadata": {},
          "execution_count": 15
        }
      ]
    },
    {
      "cell_type": "code",
      "metadata": {
        "colab": {
          "base_uri": "https://localhost:8080/"
        },
        "id": "Xv2j95-UIxlY",
        "outputId": "3b344298-ea6e-452f-be95-688386cfea59"
      },
      "source": [
        "\n",
        "# Assess model after defense on regular data\n",
        "print(\"After defense accuracy on regular images:\", model.evaluate(x=x_test, y=y_test, verbose=0))"
      ],
      "execution_count": null,
      "outputs": [
        {
          "output_type": "stream",
          "name": "stdout",
          "text": [
            "After defense accuracy on regular images: [0.0030093754176050425, 0.9811999797821045]\n"
          ]
        }
      ]
    },
    {
      "cell_type": "code",
      "metadata": {
        "colab": {
          "base_uri": "https://localhost:8080/"
        },
        "id": "ZF9rZ89HI42M",
        "outputId": "16e2e10e-fa79-4e2f-f9ea-58af86d18397"
      },
      "source": [
        "x_adversarial_test, y_adversarial_test = next(generate_adversarials(10000))\n",
        "print(\"After defense accuracy on adversarial images:\", model.evaluate(x=x_adversarial_test, y=y_adversarial_test, verbose=0))"
      ],
      "execution_count": null,
      "outputs": [
        {
          "output_type": "stream",
          "name": "stdout",
          "text": [
            "After defense accuracy on adversarial images: [0.10014750063419342, 0.4187999963760376]\n"
          ]
        }
      ]
    },
    {
      "cell_type": "code",
      "metadata": {
        "colab": {
          "base_uri": "https://localhost:8080/"
        },
        "id": "0zewEMGhKxdp",
        "outputId": "87bbd9fa-6442-4eca-bfe5-1f2d9c58db75"
      },
      "source": [
        "# Confusion Matrix\n",
        "from sklearn.metrics import confusion_matrix\n",
        "confusion_matrix(y_test.argmax(axis=1), y_adversarial_test.argmax(axis=1))"
      ],
      "execution_count": null,
      "outputs": [
        {
          "output_type": "execute_result",
          "data": {
            "text/plain": [
              "array([[119, 121,  66,  94, 106,  49, 119, 115,  74, 117],\n",
              "       [161, 157,  76, 112, 108,  69, 100, 114, 101, 137],\n",
              "       [130, 143,  57, 116, 114,  56, 122,  94,  91, 109],\n",
              "       [137, 150,  53, 105, 114,  58, 116,  94,  66, 117],\n",
              "       [141, 149,  48,  98,  94,  45, 106,  98,  96, 107],\n",
              "       [110, 116,  57, 107,  94,  58,  93,  91,  62, 104],\n",
              "       [129, 129,  58,  99,  81,  45,  93, 115,  84, 125],\n",
              "       [141, 127,  63,  99, 101,  71, 132,  94,  90, 110],\n",
              "       [145, 114,  53,  93, 114,  59, 107,  90,  82, 117],\n",
              "       [117, 160,  59, 103, 118,  56, 111,  92,  78, 115]])"
            ]
          },
          "metadata": {},
          "execution_count": 18
        }
      ]
    },
    {
      "cell_type": "code",
      "metadata": {
        "colab": {
          "base_uri": "https://localhost:8080/"
        },
        "id": "1k7iLAmEYcyF",
        "outputId": "aa6e2a20-1b15-4472-944c-c6cd6a58ad96"
      },
      "source": [
        "# Accuracy\n",
        "from sklearn.metrics import accuracy_score\n",
        "accuracy_score(y_test, y_adversarial_test)"
      ],
      "execution_count": null,
      "outputs": [
        {
          "output_type": "execute_result",
          "data": {
            "text/plain": [
              "0.0974"
            ]
          },
          "metadata": {},
          "execution_count": 19
        }
      ]
    },
    {
      "cell_type": "code",
      "metadata": {
        "colab": {
          "base_uri": "https://localhost:8080/"
        },
        "id": "15skUtAvYcWi",
        "outputId": "0b57551d-c5ee-45db-bf77-5773d3eb4e9f"
      },
      "source": [
        "# Recall\n",
        "from sklearn.metrics import recall_score\n",
        "recall_score(y_test, y_adversarial_test,average=None)"
      ],
      "execution_count": null,
      "outputs": [
        {
          "output_type": "execute_result",
          "data": {
            "text/plain": [
              "array([0.12142857, 0.13832599, 0.05523256, 0.1039604 , 0.09572301,\n",
              "       0.06502242, 0.09707724, 0.09143969, 0.08418891, 0.11397423])"
            ]
          },
          "metadata": {},
          "execution_count": 20
        }
      ]
    },
    {
      "cell_type": "code",
      "metadata": {
        "colab": {
          "base_uri": "https://localhost:8080/"
        },
        "id": "zOGl9AOIYj5X",
        "outputId": "7a3900cb-a262-48a2-8fbf-0557b60ba5b6"
      },
      "source": [
        "# Precision\n",
        "from sklearn.metrics import precision_score\n",
        "precision_score(y_test, y_adversarial_test, average=None)"
      ],
      "execution_count": null,
      "outputs": [
        {
          "output_type": "execute_result",
          "data": {
            "text/plain": [
              "array([0.08947368, 0.11493411, 0.09661017, 0.10233918, 0.09003831,\n",
              "       0.1024735 , 0.08462238, 0.09428285, 0.09951456, 0.09930915])"
            ]
          },
          "metadata": {},
          "execution_count": 21
        }
      ]
    },
    {
      "cell_type": "code",
      "metadata": {
        "colab": {
          "base_uri": "https://localhost:8080/"
        },
        "id": "peqUrX_CYjtk",
        "outputId": "be842909-3300-4e4a-9872-687d00585e01"
      },
      "source": [
        "from sklearn.metrics import f1_score\n",
        "f1_score(y_test, y_adversarial_test, average=None)"
      ],
      "execution_count": null,
      "outputs": [
        {
          "output_type": "execute_result",
          "data": {
            "text/plain": [
              "array([0.1030303 , 0.12554978, 0.0702836 , 0.10314342, 0.09279368,\n",
              "       0.07956104, 0.09042295, 0.09283951, 0.09121246, 0.10613752])"
            ]
          },
          "metadata": {},
          "execution_count": 22
        }
      ]
    },
    {
      "cell_type": "code",
      "metadata": {
        "id": "aEHWMgk6adob"
      },
      "source": [
        ""
      ],
      "execution_count": null,
      "outputs": []
    }
  ]
}